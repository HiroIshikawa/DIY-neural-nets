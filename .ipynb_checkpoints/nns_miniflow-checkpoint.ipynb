{
 "cells": [
  {
   "cell_type": "code",
   "execution_count": null,
   "metadata": {
    "collapsed": true
   },
   "outputs": [],
   "source": [
    "# Learning note on building a neural nets from scratch\n",
    "\n",
    "class Neuron:\n",
    "    def __init__(self, inbound_neurons=[]):\n",
    "        # Neuron is connected with each other\n",
    "        # inbound neurons is ones from which\n",
    "        # this particular neuron receive values\n",
    "        # 'self.incound_neurons' is the attributes of this Neuron class\n",
    "        # when instantiated, if inbound_neurons given as argument,\n",
    "        # it is assigned to the class value\n",
    "        self.inbound_neurons = inbound_neurons\n",
    "        # outbound neurons is ones to which this \n",
    "        # particular neuron send values\n",
    "        self.outbound_neurons = []\n",
    "        \n",
    "        # For each inbound neuron, add this neuron as \n",
    "        # an outbound neuron\n",
    "        # make sure you iterate over 'self.neurons'\n",
    "        for inboud_neuron in self.inbound_neurons:\n",
    "            inbound_neuron.outbound_neurons.append(self)\n",
    "        \n",
    "        # A neuron stores a value\n",
    "        self.value = None\n",
    "    \n",
    "    # Neuron conducts forward propagation which\n",
    "    # pass values forward to update network.\n",
    "    def forward(self):\n",
    "        \"\"\"\n",
    "        Forward propagation.\n",
    "        \n",
    "        Compute the output value based on 'inbound_neurons' and\n",
    "        store the result in self.value.\n",
    "        \"\"\"\n",
    "        raise NotImplemented\n",
    "        \n",
    "    # Neuron conducts back propagation which\n",
    "    # compute errors and update weights of network.\n",
    "    def backward(self):\n",
    "        \"\"\"\n",
    "        Back propagation.\n",
    "        \n",
    "        Placeholder\n",
    "        \"\"\"\n",
    "        raise NotImplemented"
   ]
  }
 ],
 "metadata": {
  "anaconda-cloud": {},
  "kernelspec": {
   "display_name": "Python [conda env:grow_nns]",
   "language": "python",
   "name": "conda-env-grow_nns-py"
  },
  "language_info": {
   "codemirror_mode": {
    "name": "ipython",
    "version": 3
   },
   "file_extension": ".py",
   "mimetype": "text/x-python",
   "name": "python",
   "nbconvert_exporter": "python",
   "pygments_lexer": "ipython3",
   "version": "3.5.2"
  }
 },
 "nbformat": 4,
 "nbformat_minor": 1
}
