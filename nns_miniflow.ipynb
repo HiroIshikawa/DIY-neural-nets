{
 "cells": [
  {
   "cell_type": "code",
   "execution_count": 14,
   "metadata": {
    "collapsed": true
   },
   "outputs": [],
   "source": [
    "# Learning note on building a neural nets from scratch\n",
    "\n",
    "class Neuron:\n",
    "    def __init__(self, inbound_neurons=[]):\n",
    "        # Neuron is connected with each other\n",
    "        # inbound neurons is ones from which\n",
    "        # this particular neuron receive values\n",
    "        # 'self.incound_neurons' is the attributes of this Neuron class\n",
    "        # when instantiated, if inbound_neurons given as argument,\n",
    "        # it is assigned to the class value\n",
    "        self.inbound_neurons = inbound_neurons\n",
    "        # outbound neurons is ones to which this \n",
    "        # particular neuron send values\n",
    "        self.outbound_neurons = []\n",
    "        \n",
    "        # For each inbound neuron, add this neuron as \n",
    "        # an outbound neuron\n",
    "        # make sure you iterate over 'self.neurons'\n",
    "        for inbound_neuron in self.inbound_neurons:\n",
    "            inbound_neuron.outbound_neurons.append(self)\n",
    "        \n",
    "        # A neuron stores a value\n",
    "        self.value = None\n",
    "    \n",
    "    # Neuron conducts forward propagation which\n",
    "    # pass values forward to update network.\n",
    "    def forward(self):\n",
    "        \"\"\"\n",
    "        Forward propagation.\n",
    "        \n",
    "        Compute the output value based on 'inbound_neurons' and\n",
    "        store the result in self.value.\n",
    "        \"\"\"\n",
    "        raise NotImplemented\n",
    "        \n",
    "    # Neuron conducts back propagation which\n",
    "    # compute errors and update weights of network.\n",
    "    def backward(self):\n",
    "        \"\"\"\n",
    "        Back propagation.\n",
    "        \n",
    "        Placeholder\n",
    "        \"\"\"\n",
    "        raise NotImplemented"
   ]
  },
  {
   "cell_type": "code",
   "execution_count": 15,
   "metadata": {
    "collapsed": true
   },
   "outputs": [],
   "source": [
    "# Subclass of Neuron\n",
    "# This is the specific class of neuron\n",
    "# which represents the initial inputs\n",
    "# for this neural nets\n",
    "class Input(Neuron):\n",
    "    def __init__(self):\n",
    "        # An input neuron has no inbound neurons.\n",
    "        # No need to pass anything to the instantiator\n",
    "        Neuron.__init__(self)\n",
    "    \n",
    "    # Input neuron is the only node where the value\n",
    "    # may be passed as an argument to forward()\n",
    "    def forward(self, value=None):\n",
    "        if value is not None:\n",
    "            self.value = value"
   ]
  },
  {
   "cell_type": "code",
   "execution_count": 25,
   "metadata": {
    "collapsed": true
   },
   "outputs": [],
   "source": [
    "# Subclass of Neuron\n",
    "# This is an example that an Neural nets\n",
    "# can perform methematical operations\n",
    "class Add(Neuron):\n",
    "    # Given x and y, it comptues the \n",
    "    # sum of them\n",
    "    def __init__(self, inputs=[]):\n",
    "        # x and y is passed as an argument \n",
    "        # corresponding to 'inbound_neurons'\n",
    "        Neuron.__init__(self, inputs)\n",
    "    \n",
    "    def forward(self):\n",
    "        sum = 0\n",
    "        for n in self.inbound_neurons:\n",
    "            sum += n.value\n",
    "        self.value = sum\n",
    "\n",
    "class Mul(Neuron):\n",
    "    # You may need to change this...\n",
    "    def __init__(self, *inputs):\n",
    "        Neuron.__init__(self, inputs)\n",
    "\n",
    "    def forward(self):\n",
    "        if self.inbound_neurons:\n",
    "            mul = self.inbound_neurons[0].value\n",
    "            for n in range(1,len(self.inbound_neurons)):\n",
    "                mul *= self.inbound_neurons[n].value\n",
    "                self.value = mul\n",
    "        else:\n",
    "            self.value = None"
   ]
  },
  {
   "cell_type": "code",
   "execution_count": 26,
   "metadata": {
    "collapsed": true
   },
   "outputs": [],
   "source": [
    "# Topological ordering\n",
    "# To specify the order of mathematical operations\n",
    "# between neurons accordingly, we need to implement\n",
    "# a graph in topological order. Given dependencies,\n",
    "# Kahn's algorithm can sort each neuron in right\n",
    "# order that does not violate the criteria of\n",
    "# topological ordering.\n",
    "# Practically, the function for topological ordering\n",
    "# should return a sorted list of neurons which\n",
    "# enables intended mathematical operations.\n",
    "\n",
    "def topological_sort(feed_dict):\n",
    "    \"\"\"\n",
    "    Sort generic nodes in topological order using Kahn's Algorithm.\n",
    "\n",
    "    `feed_dict`: A dictionary where the key is a `Input` node and the value is the respective value feed to that node.\n",
    "\n",
    "    Returns a list of sorted nodes.\n",
    "    \"\"\"\n",
    "\n",
    "    input_neurons = [n for n in feed_dict.keys()]\n",
    "\n",
    "    G = {}\n",
    "    neurons = [n for n in input_neurons]\n",
    "    while len(neurons) > 0:\n",
    "        n = neurons.pop(0)\n",
    "        if n not in G:\n",
    "            G[n] = {'in': set(), 'out': set()}\n",
    "        for m in n.outbound_neurons:\n",
    "            if m not in G:\n",
    "                G[m] = {'in': set(), 'out': set()}\n",
    "            G[n]['out'].add(m)\n",
    "            G[m]['in'].add(n)\n",
    "            neurons.append(m)\n",
    "\n",
    "    L = []\n",
    "    S = set(input_neurons)\n",
    "    while len(S) > 0:\n",
    "        n = S.pop()\n",
    "\n",
    "        if isinstance(n, Input):\n",
    "            n.value = feed_dict[n]\n",
    "\n",
    "        L.append(n)\n",
    "        for m in n.outbound_neurons:\n",
    "            G[n]['out'].remove(m)\n",
    "            G[m]['in'].remove(n)\n",
    "            # if no other incoming edges add to S\n",
    "            if len(G[m]['in']) == 0:\n",
    "                S.add(m)\n",
    "    return L\n",
    "\n",
    "\n",
    "def forward_pass(output_neuron, sorted_neurons):\n",
    "    \"\"\"\n",
    "    Performs a forward pass through a list of sorted neurons.\n",
    "\n",
    "    Arguments:\n",
    "\n",
    "        `output_neuron`: A neuron in the graph, should be the output neuron (have no outgoing edges).\n",
    "        `sorted_neurons`: a topologically sorted list of neurons.\n",
    "\n",
    "    Returns the output neuron's value\n",
    "    \"\"\"\n",
    "\n",
    "    for n in sorted_neurons:\n",
    "        n.forward()\n",
    "\n",
    "    return output_neuron.value"
   ]
  },
  {
   "cell_type": "code",
   "execution_count": 27,
   "metadata": {
    "collapsed": false
   },
   "outputs": [
    {
     "name": "stdout",
     "output_type": "stream",
     "text": [
      "10 + 5 = 15 (according to min_nn)\n"
     ]
    }
   ],
   "source": [
    "x, y = Input(), Input()\n",
    "\n",
    "f = Add([x, y])\n",
    "\n",
    "feed_dict = {x: 10, y: 5}\n",
    "\n",
    "sorted_neurons = topological_sort(feed_dict)\n",
    "output = forward_pass(f, sorted_neurons)\n",
    "\n",
    "# NOTE: because topological_sort set the values for the `Input` neurons we could also access\n",
    "# the value for x with x.value (same goes for y).\n",
    "print(\"{} + {} = {} (according to min_nn)\".format(feed_dict[x], feed_dict[y], output))"
   ]
  },
  {
   "cell_type": "code",
   "execution_count": 28,
   "metadata": {
    "collapsed": false
   },
   "outputs": [
    {
     "name": "stdout",
     "output_type": "stream",
     "text": [
      "10 + 5 + 15 = 30 (according to min_nn)\n"
     ]
    }
   ],
   "source": [
    "x, y, z = Input(), Input(), Input()\n",
    "\n",
    "f = Add([x, y, z])\n",
    "\n",
    "feed_dict = {x: 10, y: 5, z: 15}\n",
    "\n",
    "sorted_neurons = topological_sort(feed_dict)\n",
    "output = forward_pass(f, sorted_neurons)\n",
    "\n",
    "# NOTE: because topological_sort set the values for the `Input` neurons we could also access\n",
    "# the value for x with x.value (same goes for y).\n",
    "print(\"{} + {} + {} = {} (according to min_nn)\".format(feed_dict[x], feed_dict[y], feed_dict[z], output))"
   ]
  },
  {
   "cell_type": "code",
   "execution_count": 31,
   "metadata": {
    "collapsed": true
   },
   "outputs": [],
   "source": [
    "# Add linear transformation\n",
    "# Taking inputs, weight these, add a bias\n",
    "\n",
    "class Linear(Neuron):\n",
    "    def __init__(self, inputs, weights, bias):\n",
    "        Neuron.__init__(self, inputs)\n",
    "        \n",
    "        self.weights = weights\n",
    "        self.bias = bias\n",
    "    \n",
    "    def forward(self):\n",
    "        weighted_sum = 0\n",
    "        for i in range(len(self.inbound_neurons)):\n",
    "            weighted_sum += (self.inbound_neurons[i].value*self.weights[i].value)\n",
    "        self.value = weighted_sum + self.bias.value\n",
    "\n",
    "# More elegant solution\n",
    "# class Linear(Neuron):\n",
    "#     def __init__(self, inputs, weights, bias):\n",
    "#         Neuron.__init__(self, inputs)\n",
    "#         self.weights = weights\n",
    "#         self.bias = bias\n",
    "\n",
    "#     def forward(self):\n",
    "#         self.value = self.bias.value\n",
    "#         for w, x in zip(self.weights, self.inbound_neurons):\n",
    "#             self.value += w.value * x.value"
   ]
  },
  {
   "cell_type": "code",
   "execution_count": 32,
   "metadata": {
    "collapsed": false
   },
   "outputs": [
    {
     "name": "stdout",
     "output_type": "stream",
     "text": [
      "12.7\n"
     ]
    }
   ],
   "source": [
    "x, y, z = Input(), Input(), Input()\n",
    "inputs = [x, y, z]\n",
    "\n",
    "weight_x, weight_y, weight_z = Input(), Input(), Input()\n",
    "weights = [weight_x, weight_y, weight_z]\n",
    "\n",
    "bias = Input()\n",
    "\n",
    "f = Linear(inputs, weights, bias)\n",
    "\n",
    "feed_dict = {\n",
    "\tx: 6,\n",
    "\ty: 14,\n",
    "\tz: 3,\n",
    "\tweight_x: 0.5,\n",
    "\tweight_y: 0.25,\n",
    "\tweight_z: 1.4,\n",
    "\tbias: 2\n",
    "}\n",
    "\n",
    "graph = topological_sort(feed_dict)\n",
    "output = forward_pass(f, graph)\n",
    "\n",
    "print(output) # should be 12.7 with this example"
   ]
  },
  {
   "cell_type": "code",
   "execution_count": null,
   "metadata": {
    "collapsed": true
   },
   "outputs": [],
   "source": []
  }
 ],
 "metadata": {
  "anaconda-cloud": {},
  "kernelspec": {
   "display_name": "Python [conda env:grow_nns]",
   "language": "python",
   "name": "conda-env-grow_nns-py"
  },
  "language_info": {
   "codemirror_mode": {
    "name": "ipython",
    "version": 3
   },
   "file_extension": ".py",
   "mimetype": "text/x-python",
   "name": "python",
   "nbconvert_exporter": "python",
   "pygments_lexer": "ipython3",
   "version": "3.5.2"
  }
 },
 "nbformat": 4,
 "nbformat_minor": 1
}
